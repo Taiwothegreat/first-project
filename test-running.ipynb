{
 "cells": [
  {
   "cell_type": "code",
   "execution_count": 3,
   "metadata": {},
   "outputs": [
    {
     "name": "stdout",
     "output_type": "stream",
     "text": [
      "0.4\n"
     ]
    }
   ],
   "source": [
    "num_2=4;\n",
    "num_3=10;\n",
    "num_4=num_2/num_3;\n",
    "print(num_4)"
   ]
  },
  {
   "cell_type": "code",
   "execution_count": null,
   "metadata": {},
   "outputs": [],
   "source": []
  },
  {
   "cell_type": "code",
   "execution_count": 4,
   "metadata": {},
   "outputs": [
    {
     "name": "stdout",
     "output_type": "stream",
     "text": [
      "Requirement already satisfied: openai in c:\\program files\\python310\\lib\\site-packages (0.27.8)\n",
      "Requirement already satisfied: requests>=2.20 in c:\\program files\\python310\\lib\\site-packages (from openai) (2.31.0)\n",
      "Requirement already satisfied: tqdm in c:\\program files\\python310\\lib\\site-packages (from openai) (4.65.0)\n",
      "Requirement already satisfied: aiohttp in c:\\program files\\python310\\lib\\site-packages (from openai) (3.8.4)\n",
      "Requirement already satisfied: charset-normalizer<4,>=2 in c:\\program files\\python310\\lib\\site-packages (from requests>=2.20->openai) (3.1.0)\n",
      "Requirement already satisfied: idna<4,>=2.5 in c:\\program files\\python310\\lib\\site-packages (from requests>=2.20->openai) (3.4)\n",
      "Requirement already satisfied: urllib3<3,>=1.21.1 in c:\\program files\\python310\\lib\\site-packages (from requests>=2.20->openai) (2.0.3)\n",
      "Requirement already satisfied: certifi>=2017.4.17 in c:\\program files\\python310\\lib\\site-packages (from requests>=2.20->openai) (2023.5.7)\n",
      "Requirement already satisfied: attrs>=17.3.0 in c:\\program files\\python310\\lib\\site-packages (from aiohttp->openai) (23.1.0)\n",
      "Requirement already satisfied: multidict<7.0,>=4.5 in c:\\program files\\python310\\lib\\site-packages (from aiohttp->openai) (6.0.4)\n",
      "Requirement already satisfied: async-timeout<5.0,>=4.0.0a3 in c:\\program files\\python310\\lib\\site-packages (from aiohttp->openai) (4.0.2)\n",
      "Requirement already satisfied: yarl<2.0,>=1.0 in c:\\program files\\python310\\lib\\site-packages (from aiohttp->openai) (1.9.2)\n",
      "Requirement already satisfied: frozenlist>=1.1.1 in c:\\program files\\python310\\lib\\site-packages (from aiohttp->openai) (1.3.3)\n",
      "Requirement already satisfied: aiosignal>=1.1.2 in c:\\program files\\python310\\lib\\site-packages (from aiohttp->openai) (1.3.1)\n",
      "Requirement already satisfied: colorama in c:\\program files\\python310\\lib\\site-packages (from tqdm->openai) (0.4.6)\n",
      "Note: you may need to restart the kernel to use updated packages.\n"
     ]
    },
    {
     "name": "stderr",
     "output_type": "stream",
     "text": [
      "\n",
      "[notice] A new release of pip is available: 23.1.2 -> 23.2.1\n",
      "[notice] To update, run: python.exe -m pip install --upgrade pip\n"
     ]
    }
   ],
   "source": [
    "pip install openai\n"
   ]
  },
  {
   "cell_type": "code",
   "execution_count": 6,
   "metadata": {},
   "outputs": [
    {
     "name": "stdout",
     "output_type": "stream",
     "text": [
      "Requirement already satisfied: pip in c:\\program files\\python310\\lib\\site-packages (23.1.2)Note: you may need to restart the kernel to use updated packages.\n",
      "\n",
      "Collecting pip\n",
      "  Downloading pip-23.2.1-py3-none-any.whl (2.1 MB)\n",
      "                                              0.0/2.1 MB ? eta -:--:--\n",
      "                                              0.0/2.1 MB ? eta -:--:--\n",
      "                                              0.0/2.1 MB 330.3 kB/s eta 0:00:07\n",
      "                                              0.0/2.1 MB 281.8 kB/s eta 0:00:08\n",
      "     -                                        0.1/2.1 MB 476.3 kB/s eta 0:00:05\n",
      "     --                                       0.1/2.1 MB 547.6 kB/s eta 0:00:04\n",
      "     ---                                      0.2/2.1 MB 614.4 kB/s eta 0:00:04\n",
      "     ----                                     0.3/2.1 MB 749.3 kB/s eta 0:00:03\n",
      "     -----                                    0.3/2.1 MB 710.0 kB/s eta 0:00:03\n",
      "     ------                                   0.3/2.1 MB 807.1 kB/s eta 0:00:03\n",
      "     -------                                  0.4/2.1 MB 851.5 kB/s eta 0:00:02\n",
      "     --------                                 0.4/2.1 MB 860.2 kB/s eta 0:00:02\n",
      "     ---------                                0.5/2.1 MB 906.4 kB/s eta 0:00:02\n",
      "     ----------                               0.6/2.1 MB 948.1 kB/s eta 0:00:02\n",
      "     ------------                             0.6/2.1 MB 974.5 kB/s eta 0:00:02\n",
      "     ------------                             0.7/2.1 MB 953.9 kB/s eta 0:00:02\n",
      "     -------------                            0.7/2.1 MB 934.7 kB/s eta 0:00:02\n",
      "     --------------                           0.8/2.1 MB 970.2 kB/s eta 0:00:02\n",
      "     ---------------                          0.8/2.1 MB 996.3 kB/s eta 0:00:02\n",
      "     ---------------                          0.8/2.1 MB 996.3 kB/s eta 0:00:02\n",
      "     ---------------                          0.8/2.1 MB 874.3 kB/s eta 0:00:02\n",
      "     ----------------                         0.8/2.1 MB 866.5 kB/s eta 0:00:02\n",
      "     ----------------                         0.9/2.1 MB 844.2 kB/s eta 0:00:02\n",
      "     -----------------                        0.9/2.1 MB 848.5 kB/s eta 0:00:02\n",
      "     ------------------                       1.0/2.1 MB 846.5 kB/s eta 0:00:02\n",
      "     -------------------                      1.0/2.1 MB 847.5 kB/s eta 0:00:02\n",
      "     -------------------                      1.0/2.1 MB 842.7 kB/s eta 0:00:02\n",
      "     --------------------                     1.1/2.1 MB 843.8 kB/s eta 0:00:02\n",
      "     --------------------                     1.1/2.1 MB 843.8 kB/s eta 0:00:02\n",
      "     ---------------------                    1.1/2.1 MB 828.8 kB/s eta 0:00:02\n",
      "     ----------------------                   1.2/2.1 MB 834.1 kB/s eta 0:00:02\n",
      "     -----------------------                  1.2/2.1 MB 842.5 kB/s eta 0:00:02\n",
      "     -----------------------                  1.2/2.1 MB 828.0 kB/s eta 0:00:02\n",
      "     ------------------------                 1.3/2.1 MB 816.0 kB/s eta 0:00:02\n",
      "     ----------------------------             1.5/2.1 MB 921.5 kB/s eta 0:00:01\n",
      "     -----------------------------            1.5/2.1 MB 945.2 kB/s eta 0:00:01\n",
      "     -------------------------------          1.6/2.1 MB 983.2 kB/s eta 0:00:01\n",
      "     -------------------------------          1.6/2.1 MB 983.2 kB/s eta 0:00:01\n",
      "     ---------------------------------        1.7/2.1 MB 979.9 kB/s eta 0:00:01\n",
      "     ----------------------------------       1.8/2.1 MB 1.0 MB/s eta 0:00:01\n",
      "     -------------------------------------    2.0/2.1 MB 1.0 MB/s eta 0:00:01\n",
      "     ---------------------------------------  2.0/2.1 MB 1.1 MB/s eta 0:00:01\n",
      "     ---------------------------------------  2.1/2.1 MB 1.1 MB/s eta 0:00:01\n",
      "     ---------------------------------------  2.1/2.1 MB 1.1 MB/s eta 0:00:01\n",
      "     ---------------------------------------  2.1/2.1 MB 1.1 MB/s eta 0:00:01\n",
      "     ---------------------------------------- 2.1/2.1 MB 999.0 kB/s eta 0:00:00\n",
      "Installing collected packages: pip\n",
      "  Attempting uninstall: pip\n",
      "    Found existing installation: pip 23.1.2\n",
      "    Uninstalling pip-23.1.2:\n",
      "      Successfully uninstalled pip-23.1.2\n",
      "Successfully installed pip-23.2.1\n"
     ]
    }
   ],
   "source": [
    "pip install --upgrade pip"
   ]
  }
 ],
 "metadata": {
  "kernelspec": {
   "display_name": "Python 3",
   "language": "python",
   "name": "python3"
  },
  "language_info": {
   "codemirror_mode": {
    "name": "ipython",
    "version": 3
   },
   "file_extension": ".py",
   "mimetype": "text/x-python",
   "name": "python",
   "nbconvert_exporter": "python",
   "pygments_lexer": "ipython3",
   "version": "3.10.5"
  },
  "orig_nbformat": 4
 },
 "nbformat": 4,
 "nbformat_minor": 2
}
